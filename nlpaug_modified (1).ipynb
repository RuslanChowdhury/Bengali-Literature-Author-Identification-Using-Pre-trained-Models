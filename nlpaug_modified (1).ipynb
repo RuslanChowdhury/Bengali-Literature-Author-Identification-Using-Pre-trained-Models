{
  "nbformat": 4,
  "nbformat_minor": 0,
  "metadata": {
    "colab": {
      "provenance": []
    },
    "kernelspec": {
      "name": "python3",
      "display_name": "Python 3"
    },
    "language_info": {
      "name": "python"
    },
    "accelerator": "GPU",
    "gpuClass": "standard"
  },
  "cells": [
    {
      "cell_type": "code",
      "execution_count": 1,
      "metadata": {
        "id": "8sZmM1j9wVnp"
      },
      "outputs": [],
      "source": [
        "%%capture\n",
        "!pip3 install nlpaug\n",
        "!pip install transformers\n",
        "import nlpaug.augmenter.word.context_word_embs as aug\n",
        "augmenter = aug.ContextualWordEmbsAug(model_path='csebuetnlp/banglabert_generator', action=\"substitute\")"
      ]
    },
    {
      "cell_type": "code",
      "source": [
        "import pandas as pd\n",
        "import numpy as np"
      ],
      "metadata": {
        "id": "PBevl91yr2UT"
      },
      "execution_count": 2,
      "outputs": []
    },
    {
      "cell_type": "code",
      "source": [
        "from google.colab import drive\n",
        "drive.mount('/content/drive')\n",
        "from google.colab import data_table\n",
        "data_table.enable_dataframe_formatter()"
      ],
      "metadata": {
        "colab": {
          "base_uri": "https://localhost:8080/"
        },
        "id": "pu-0NE9iFe4a",
        "outputId": "b2ac6005-d517-4db5-bc84-5c4cd18d9c66"
      },
      "execution_count": 3,
      "outputs": [
        {
          "output_type": "stream",
          "name": "stdout",
          "text": [
            "Mounted at /content/drive\n"
          ]
        }
      ]
    },
    {
      "cell_type": "code",
      "source": [
        "dir,n,augno = '/content/drive/MyDrive/softcom/shomresh_Dataset.csv',555,1\n",
        "#dir,n,augno = '/content/drive/MyDrive/softcom/shorotchandra_Dataset.csv',651,1\n",
        "#dir,n,augno = '/content/drive/MyDrive/softcom/robindronath_Dataset.csv',704,1\n",
        "#dir,n,augno = '/content/drive/MyDrive/softcom/MZI_Dataset.csv',863,1\n",
        "#dir,n,augno = '/content/drive/MyDrive/softcom/shirshendu_Dataset.csv',915,1\n",
        "#dir,n,augno = '/content/drive/MyDrive/softcom/toslima_nasrin_Dataset.csv',516,2\n",
        "#dir,n,augno = '/content/drive/MyDrive/softcom/shordindu_Dataset.csv',538,2\n",
        "#dir,n,augno = '/content/drive/MyDrive/softcom/shottojit_roy_Dataset.csv',557,2\n",
        "#dir,n,augno = '/content/drive/MyDrive/softcom/tarashonkor_Dataset.csv',594,2\n",
        "#dir,n,augno = '/content/drive/MyDrive/softcom/bongkim_Dataset.csv',467,3\n",
        "#dir,n,augno = '/content/drive/MyDrive/softcom/nihar_ronjon_gupta_Dataset.csv',372,4\n",
        "#dir,n,augno = '/content/drive/MyDrive/softcom/manik_bandhopaddhay_Dataset.csv',374,4\n",
        "#dir,n,augno = '/content/drive/MyDrive/softcom/nazrul_Dataset.csv',223,9\n",
        "#dir,n,augno = '/content/drive/MyDrive/softcom/zahir_rayhan_Dataset.csv',185,11"
      ],
      "metadata": {
        "id": "U_0TwTEjNTRP"
      },
      "execution_count": 59,
      "outputs": []
    },
    {
      "cell_type": "code",
      "source": [
        "data = pd.read_csv(dir).sample(n)"
      ],
      "metadata": {
        "id": "kZDHKYq6rCJZ"
      },
      "execution_count": 60,
      "outputs": []
    },
    {
      "cell_type": "code",
      "source": [
        "def make_augmentation(text,aug_no):\n",
        "  augentedfake=[]\n",
        "  for i in range(len(text)):\n",
        "    #print(text[text.index[i]])\n",
        "    for j in range(aug_no): #The number of new sentecnce you want to generate\n",
        "      #Pass the column of the dataframe containing sentences\n",
        "      txt= augmenter.augment(text[text.index[i]])\n",
        "      #print(text)\n",
        "      #print(text[i])\n",
        "      #print(i)\n",
        "      augentedfake.append(txt)\n",
        "\n",
        "  return augentedfake"
      ],
      "metadata": {
        "id": "HC15zzPKwW4l"
      },
      "execution_count": 61,
      "outputs": []
    },
    {
      "cell_type": "code",
      "source": [
        "aug = make_augmentation(data['text'],augno)\n",
        "label = int(data['label'].unique())"
      ],
      "metadata": {
        "id": "dbN8JQQ2tbT_"
      },
      "execution_count": null,
      "outputs": []
    },
    {
      "cell_type": "code",
      "source": [
        "#Save the new data\n",
        "df = pd.DataFrame(data={\"text\":aug, \"label\":label })\n",
        "df.to_csv('{}_aug.csv'.format(dir), index=False)"
      ],
      "metadata": {
        "id": "BCt5NGYww32q"
      },
      "execution_count": 63,
      "outputs": []
    }
  ]
}